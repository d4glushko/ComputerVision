{
 "cells": [
  {
   "cell_type": "markdown",
   "metadata": {
    "colab_type": "text",
    "id": "x69kuf4SUkCA"
   },
   "source": [
    "*Notebook conventions:*\n",
    "\n",
    "* <font color=\"red\">assignment problem</font>. The red color indicates the task that should be done\n",
    "* <font color=\"green\">debugging</font>. The green tells you what is expected outcome. Its primarily goal is to help you get the correct answer\n",
    "* <font color=\"blue\">comments, hints</font>.\n",
    "\n",
    "Assignment 2 (Simple network)\n",
    "======================\n",
    "\n"
   ]
  },
  {
   "cell_type": "markdown",
   "metadata": {
    "colab_type": "text",
    "id": "Z8MRDiGWUkCB"
   },
   "source": [
    "## Preliminaries"
   ]
  },
  {
   "cell_type": "code",
   "execution_count": 1,
   "metadata": {
    "colab": {
     "base_uri": "https://localhost:8080/",
     "height": 127
    },
    "colab_type": "code",
    "executionInfo": {
     "elapsed": 42409,
     "status": "ok",
     "timestamp": 1563405623628,
     "user": {
      "displayName": "Andrey Lyubonko",
      "photoUrl": "",
      "userId": "14195748931596322145"
     },
     "user_tz": -180
    },
    "id": "W_5ydpwdVTj6",
    "outputId": "9177ac28-8d39-4a19-b635-de8c96aa6dc8"
   },
   "outputs": [
    {
     "ename": "ModuleNotFoundError",
     "evalue": "No module named 'google.colab'",
     "output_type": "error",
     "traceback": [
      "\u001b[0;31m---------------------------------------------------------------------------\u001b[0m",
      "\u001b[0;31mModuleNotFoundError\u001b[0m                       Traceback (most recent call last)",
      "\u001b[0;32m<ipython-input-1-d5df0069828e>\u001b[0m in \u001b[0;36m<module>\u001b[0;34m\u001b[0m\n\u001b[0;32m----> 1\u001b[0;31m \u001b[0;32mfrom\u001b[0m \u001b[0mgoogle\u001b[0m\u001b[0;34m.\u001b[0m\u001b[0mcolab\u001b[0m \u001b[0;32mimport\u001b[0m \u001b[0mdrive\u001b[0m\u001b[0;34m\u001b[0m\u001b[0;34m\u001b[0m\u001b[0m\n\u001b[0m\u001b[1;32m      2\u001b[0m \u001b[0mdrive\u001b[0m\u001b[0;34m.\u001b[0m\u001b[0mmount\u001b[0m\u001b[0;34m(\u001b[0m\u001b[0;34m'/content/drive'\u001b[0m\u001b[0;34m)\u001b[0m\u001b[0;34m\u001b[0m\u001b[0;34m\u001b[0m\u001b[0m\n",
      "\u001b[0;31mModuleNotFoundError\u001b[0m: No module named 'google.colab'"
     ]
    }
   ],
   "source": [
    "from google.colab import drive\n",
    "drive.mount('/content/drive')"
   ]
  },
  {
   "cell_type": "code",
   "execution_count": 2,
   "metadata": {
    "colab": {},
    "colab_type": "code",
    "id": "AN11J376UkCC"
   },
   "outputs": [],
   "source": [
    "# for compatability issues \n",
    "from __future__ import print_function"
   ]
  },
  {
   "cell_type": "code",
   "execution_count": 3,
   "metadata": {
    "colab": {},
    "colab_type": "code",
    "id": "IfCU7c5KUkCG"
   },
   "outputs": [],
   "source": [
    "import numpy as np\n",
    "import os\n",
    "from PIL import Image\n",
    "import matplotlib.pyplot as plt"
   ]
  },
  {
   "cell_type": "code",
   "execution_count": 4,
   "metadata": {
    "colab": {},
    "colab_type": "code",
    "id": "pKJJpL4JUkCI"
   },
   "outputs": [],
   "source": [
    "import torch\n",
    "import torch.nn as nn\n",
    "import torch.nn.functional as F"
   ]
  },
  {
   "cell_type": "code",
   "execution_count": 5,
   "metadata": {
    "colab": {},
    "colab_type": "code",
    "id": "1sqUeL6jUkCL"
   },
   "outputs": [],
   "source": [
    "# to make interactive plotting possible\n",
    "%matplotlib inline\n",
    "# for auto-reloading external modules\n",
    "%load_ext autoreload\n",
    "%autoreload 2"
   ]
  },
  {
   "cell_type": "code",
   "execution_count": 6,
   "metadata": {
    "colab": {},
    "colab_type": "code",
    "id": "G2v18tmDUkCN"
   },
   "outputs": [],
   "source": [
    "# make plots a bit nicer\n",
    "plt.matplotlib.rcParams.update({'font.size': 18, 'font.family': 'serif'})"
   ]
  },
  {
   "cell_type": "code",
   "execution_count": 11,
   "metadata": {
    "colab": {},
    "colab_type": "code",
    "id": "ZrKaje3eUkCQ"
   },
   "outputs": [],
   "source": [
    "# random seed settings\n",
    "torch.manual_seed(42)\n",
    "np.random.seed(42)\n",
    "\n",
    "# data type (useful to have in pytorch)\n",
    "dtype_np = np.float64\n",
    "dtype_torch = torch.FloatTensor"
   ]
  },
  {
   "cell_type": "markdown",
   "metadata": {
    "colab_type": "text",
    "id": "SOnnHO4_XN7n"
   },
   "source": [
    "### Pathes"
   ]
  },
  {
   "cell_type": "code",
   "execution_count": 12,
   "metadata": {
    "colab": {},
    "colab_type": "code",
    "id": "9RORVALWXQJp"
   },
   "outputs": [],
   "source": [
    "path_data = \"data/toy_data/data_class_train.txt\""
   ]
  },
  {
   "cell_type": "markdown",
   "metadata": {
    "colab_type": "text",
    "id": "g8wxAx0AUkCT"
   },
   "source": [
    "### Data (playground)"
   ]
  },
  {
   "cell_type": "code",
   "execution_count": 13,
   "metadata": {
    "colab": {},
    "colab_type": "code",
    "id": "w0z3rxUUUkCT"
   },
   "outputs": [],
   "source": [
    "# load data\n",
    "data = np.loadtxt(path_data)\n",
    "dataX = data[:,0:2]\n",
    "dataY = data[:,2]"
   ]
  },
  {
   "cell_type": "code",
   "execution_count": 14,
   "metadata": {
    "colab": {},
    "colab_type": "code",
    "id": "fzE1sHScUkCW"
   },
   "outputs": [],
   "source": [
    "n_samples = data.shape[0]\n",
    "dim_in = 2 # two features\n",
    "dim_out = 3 # three classes\n",
    "\n",
    "n_train = int(n_samples * 0.7)\n",
    "n_test = n_samples - n_train"
   ]
  },
  {
   "cell_type": "code",
   "execution_count": 15,
   "metadata": {
    "colab": {},
    "colab_type": "code",
    "id": "VL-MOE60UkCZ"
   },
   "outputs": [],
   "source": [
    "# train-test partition\n",
    "perm = np.random.permutation(n_samples)\n",
    "train_indx = perm[:n_train]\n",
    "test_indx = perm[n_train:]\n",
    "\n",
    "dataX_train, dataY_train = dataX[train_indx,:], dataY[train_indx]\n",
    "dataX_test, dataY_test = dataX[test_indx,:], dataY[test_indx]"
   ]
  },
  {
   "cell_type": "code",
   "execution_count": 16,
   "metadata": {
    "colab": {
     "base_uri": "https://localhost:8080/",
     "height": 353
    },
    "colab_type": "code",
    "executionInfo": {
     "elapsed": 48318,
     "status": "ok",
     "timestamp": 1563405629583,
     "user": {
      "displayName": "Andrey Lyubonko",
      "photoUrl": "",
      "userId": "14195748931596322145"
     },
     "user_tz": -180
    },
    "id": "lyiIizM6UkCd",
    "outputId": "98d122c3-8845-4dea-d653-ba57da221bab"
   },
   "outputs": [
    {
     "data": {
      "image/png": "[encoded data removed]",
      "text/plain": [
       "<Figure size 720x360 with 1 Axes>"
      ]
     },
     "metadata": {
      "needs_background": "light"
     },
     "output_type": "display_data"
    }
   ],
   "source": [
    "# visualize data\n",
    "plt.figure(figsize=(10,5))\n",
    "plt.plot(dataX_train[dataY_train==0,0], dataX_train[dataY_train==0,1],'ob', label=\"class1\")\n",
    "plt.plot(dataX_train[dataY_train==1,0], dataX_train[dataY_train==1,1],'og', label=\"class2\")\n",
    "plt.plot(dataX_train[dataY_train==2,0], dataX_train[dataY_train==2,1],'or', label=\"class3\")\n",
    "\n",
    "plt.plot(dataX_test[:,0], dataX_test[:,1],'xk', label=\"test\")\n",
    "\n",
    "plt.xlabel('feature #1')\n",
    "plt.ylabel('feature #2')\n",
    "plt.legend()\n",
    "plt.xlim(-9, 9)\n",
    "plt.ylim(-5, 12);"
   ]
  },
  {
   "cell_type": "markdown",
   "metadata": {
    "colab_type": "text",
    "id": "emywYf7kUkCi"
   },
   "source": [
    "## Two-layer Network (by hand)\n",
    "\n",
    "\n",
    "$$x_{hidden} = RELU(x  \\cdot W_1 + b_1)$$\n",
    "$$y_{pred} = x_{hidden} \\cdot W_2 + b_2$$"
   ]
  },
  {
   "cell_type": "code",
   "execution_count": 17,
   "metadata": {
    "colab": {},
    "colab_type": "code",
    "id": "kvqsZejNUkCj"
   },
   "outputs": [],
   "source": [
    "dim_hidden = 100 # hidden dimension"
   ]
  },
  {
   "cell_type": "code",
   "execution_count": 18,
   "metadata": {
    "colab": {},
    "colab_type": "code",
    "id": "7ujFGnvmUkCl"
   },
   "outputs": [],
   "source": [
    "# input \n",
    "x = torch.from_numpy(dataX_train).type(dtype_torch)\n",
    "y = torch.from_numpy(dataY_train).type(torch.LongTensor)"
   ]
  },
  {
   "cell_type": "markdown",
   "metadata": {
    "colab_type": "text",
    "id": "c0FLztlqUkCo"
   },
   "source": [
    "* Weights and biases"
   ]
  },
  {
   "cell_type": "markdown",
   "metadata": {
    "colab_type": "text",
    "id": "pm0AbfS_UkCo"
   },
   "source": [
    " <font color=\"red\"> **[PROBLEM I]**: </font>   \n",
    " <font color=\"red\"> Fill the missing part (weights and biases for the output layer) </font>  "
   ]
  },
  {
   "cell_type": "code",
   "execution_count": 19,
   "metadata": {
    "colab": {},
    "colab_type": "code",
    "id": "P6EaCFsSUkCp"
   },
   "outputs": [],
   "source": [
    "# Randomly initialize weights\n",
    "w1_value = np.random.randn(dim_in, dim_hidden)\n",
    "w2_value = np.random.randn(dim_hidden, dim_out) # YOUR CODE HERE\n",
    "\n",
    "# Randomly initialize biases\n",
    "b1_value = np.random.randn(dim_hidden)\n",
    "b2_value = np.random.randn(dim_out) # YOUR CODE HERE"
   ]
  },
  {
   "cell_type": "code",
   "execution_count": 20,
   "metadata": {
    "colab": {},
    "colab_type": "code",
    "id": "4j7AOmZNUkCr"
   },
   "outputs": [],
   "source": [
    "w1 = torch.from_numpy(w1_value).type(dtype_torch).requires_grad_(True)\n",
    "w2 = torch.from_numpy(w2_value).type(dtype_torch).requires_grad_(True)\n",
    "b1 = torch.from_numpy(b1_value).type(dtype_torch).requires_grad_(True)\n",
    "b2 = torch.from_numpy(b2_value).type(dtype_torch).requires_grad_(True)"
   ]
  },
  {
   "cell_type": "markdown",
   "metadata": {
    "colab_type": "text",
    "id": "KB_MBRG-UkCu"
   },
   "source": [
    "* Loss (we will use cross-entropy loss), see documentation for details http://pytorch.org/docs/master/nn.html#torch.nn.CrossEntropyLoss"
   ]
  },
  {
   "cell_type": "code",
   "execution_count": 21,
   "metadata": {
    "colab": {},
    "colab_type": "code",
    "id": "NQw_LYFbUkCv"
   },
   "outputs": [],
   "source": [
    "criterion = nn.CrossEntropyLoss()"
   ]
  },
  {
   "cell_type": "markdown",
   "metadata": {
    "colab_type": "text",
    "id": "cKSu08rFUkCx"
   },
   "source": [
    "* learning parameters"
   ]
  },
  {
   "cell_type": "code",
   "execution_count": 22,
   "metadata": {
    "colab": {},
    "colab_type": "code",
    "id": "f5MTxAyPUkCy"
   },
   "outputs": [],
   "source": [
    "learning_rate = 1e-3\n",
    "n_iteration = 500"
   ]
  },
  {
   "cell_type": "markdown",
   "metadata": {
    "colab_type": "text",
    "id": "PDYPUHoDUkC0"
   },
   "source": [
    " <font color=\"red\"> **[PROBLEM II]**: </font>   \n",
    " <font color=\"red\"> Fill the missing part (last operation in forward pass to calculate *y_pred*) </font>  "
   ]
  },
  {
   "cell_type": "code",
   "execution_count": 23,
   "metadata": {
    "colab": {
     "base_uri": "https://localhost:8080/",
     "height": 107
    },
    "colab_type": "code",
    "executionInfo": {
     "elapsed": 51354,
     "status": "ok",
     "timestamp": 1563405632658,
     "user": {
      "displayName": "Andrey Lyubonko",
      "photoUrl": "",
      "userId": "14195748931596322145"
     },
     "user_tz": -180
    },
    "id": "kD980w_HUkC1",
    "outputId": "048b2ce1-3f23-4137-b1ed-fd9d6098c6c2"
   },
   "outputs": [
    {
     "name": "stdout",
     "output_type": "stream",
     "text": [
      "0 20.01432228088379\n",
      "100 1.3266929388046265\n",
      "200 0.4813610315322876\n",
      "300 0.3851567208766937\n",
      "400 0.3476109206676483\n"
     ]
    }
   ],
   "source": [
    "logger = {}\n",
    "logger['iteration'] = []\n",
    "logger['loss_iteration'] = []\n",
    "\n",
    "for t in range(n_iteration):  \n",
    " \n",
    "    # forward pass\n",
    "    x_hidden = x.mm(w1) + b1\n",
    "    x_hidden_act = x_hidden.clamp(min=0) # apply RELU\n",
    "    y_pred = x_hidden_act.mm(w2) + b2 # YOUR CODE HERE\n",
    "    \n",
    "    # compute loss\n",
    "    loss = criterion(y_pred, y)\n",
    "\n",
    "    # backprop\n",
    "    loss.backward()\n",
    "\n",
    "    # update weights using gradient descent  \n",
    "    w1.data -= learning_rate * w1.grad\n",
    "    w2.data -= learning_rate * w2.grad\n",
    "    b1.data -= learning_rate * b1.grad\n",
    "    b2.data -= learning_rate * b2.grad\n",
    "\n",
    "    # manually zero the gradients\n",
    "    w1.grad.zero_()\n",
    "    w2.grad.zero_()\n",
    "    b1.grad.zero_()\n",
    "    b2.grad.zero_()      \n",
    "    \n",
    "    # reporting & logging       \n",
    "    if t % 100 == 0:\n",
    "        print(t, loss.item())\n",
    "        \n",
    "    logger['iteration'] += [t]\n",
    "    logger['loss_iteration'] += [loss.item()]"
   ]
  },
  {
   "cell_type": "markdown",
   "metadata": {
    "colab_type": "text",
    "id": "ZRVfrCSjUkC6"
   },
   "source": [
    " <font color=\"green\"> After visualizing the loss (cell below) you should see something like this </font>\n",
    "\n",
    "![loss_toy.png](https://drive.google.com/uc?id=1wzsrZQfIOFueYmFp5KnhG-iDFCnRkO_v)"
   ]
  },
  {
   "cell_type": "code",
   "execution_count": 24,
   "metadata": {
    "colab": {
     "base_uri": "https://localhost:8080/",
     "height": 353
    },
    "colab_type": "code",
    "executionInfo": {
     "elapsed": 51340,
     "status": "ok",
     "timestamp": 1563405632660,
     "user": {
      "displayName": "Andrey Lyubonko",
      "photoUrl": "",
      "userId": "14195748931596322145"
     },
     "user_tz": -180
    },
    "id": "2thNWH0QUkC7",
    "outputId": "677bf153-c985-42b4-a1c4-7b370cdf0d9e"
   },
   "outputs": [
    {
     "data": {
      "image/png": "[encoded data removed]",
      "text/plain": [
       "<Figure size 720x360 with 1 Axes>"
      ]
     },
     "metadata": {
      "needs_background": "light"
     },
     "output_type": "display_data"
    }
   ],
   "source": [
    "# visualize loss\n",
    "plt.figure(figsize=(10,5))\n",
    "plt.plot(logger['iteration'], logger['loss_iteration'],'ob', label=\"loss\")\n",
    "\n",
    "plt.xlabel('iteration')\n",
    "plt.ylabel('loss');"
   ]
  },
  {
   "cell_type": "markdown",
   "metadata": {
    "colab_type": "text",
    "id": "PlnAncYjUkDC"
   },
   "source": [
    "<font color=\"red\"> **[PROBLEM III]**: </font>   \n",
    "<font color=\"red\"> Implement the fuction which takes x and predicts its class </font>  "
   ]
  },
  {
   "cell_type": "code",
   "execution_count": 79,
   "metadata": {
    "colab": {},
    "colab_type": "code",
    "id": "rWXjnPprUkDC"
   },
   "outputs": [],
   "source": [
    "def predict(x, w1, b1, w2, b2, dtype_torch=torch.FloatTensor):\n",
    "    \"\"\"\n",
    "    Prediction based on two-layer model (by hand)\n",
    "    \n",
    "    Args:\n",
    "        x (numpy.array): sample\n",
    "        w1, b1, w2, b2 (torch.Tensor) : weights and biases \n",
    "    Returns:\n",
    "        scalar: predicted class\n",
    "    \"\"\"\n",
    "    with torch.no_grad():\n",
    "        t = torch.from_numpy(x).type(dtype_torch)\n",
    "\n",
    "        # forward pass\n",
    "        x_hidden = t.matmul(w1) + b1\n",
    "        x_hidden_act = x_hidden.clamp(min=0) # apply RELU\n",
    "        forward_pass = x_hidden_act.matmul(w2) + b2 # YOUR CODE HERE\n",
    "        res = torch.argmax(forward_pass)\n",
    "    \n",
    "    return res"
   ]
  },
  {
   "cell_type": "markdown",
   "metadata": {
    "colab_type": "text",
    "id": "_45l9ft5UkDE"
   },
   "source": [
    "<span style=\"color:green\"> by running the following command you should get number bigger than 8 </span>"
   ]
  },
  {
   "cell_type": "code",
   "execution_count": 80,
   "metadata": {
    "colab": {
     "base_uri": "https://localhost:8080/",
     "height": 35
    },
    "colab_type": "code",
    "executionInfo": {
     "elapsed": 51329,
     "status": "ok",
     "timestamp": 1563405632665,
     "user": {
      "displayName": "Andrey Lyubonko",
      "photoUrl": "",
      "userId": "14195748931596322145"
     },
     "user_tz": -180
    },
    "id": "7dgMC_-XUkDF",
    "outputId": "96f8759d-1fb0-4408-9851-288a482e0273"
   },
   "outputs": [
    {
     "data": {
      "text/plain": [
       "10"
      ]
     },
     "execution_count": 80,
     "metadata": {},
     "output_type": "execute_result"
    }
   ],
   "source": [
    "np.sum(np.equal([predict(x, w1, b1, w2, b2) for x in dataX_train[:10]], [0, 2, 0, 1, 0, 2, 0, 0, 1, 0]))"
   ]
  },
  {
   "cell_type": "markdown",
   "metadata": {
    "colab_type": "text",
    "id": "H-va53cfUkDI"
   },
   "source": [
    "* Calculate accuracy"
   ]
  },
  {
   "cell_type": "code",
   "execution_count": 81,
   "metadata": {
    "colab": {},
    "colab_type": "code",
    "id": "Mh19f7hxUkDJ"
   },
   "outputs": [],
   "source": [
    "def get_accuracy(y, y_pred):\n",
    "    \"\"\"\n",
    "    Calculate accuracy given y and y_predicted\n",
    "    \n",
    "    Args:\n",
    "        y (numpy.array): ground truth\n",
    "        y_pred (numpy.array): predictated values\n",
    "         \n",
    "    Returns:\n",
    "        scalar: accuracy\n",
    "    \"\"\"\n",
    "    n_samples = y.shape[0]\n",
    "    return np.sum(y == y_pred)/n_samples * 100"
   ]
  },
  {
   "cell_type": "code",
   "execution_count": 83,
   "metadata": {
    "colab": {
     "base_uri": "https://localhost:8080/",
     "height": 35
    },
    "colab_type": "code",
    "executionInfo": {
     "elapsed": 51316,
     "status": "ok",
     "timestamp": 1563405632670,
     "user": {
      "displayName": "Andrey Lyubonko",
      "photoUrl": "",
      "userId": "14195748931596322145"
     },
     "user_tz": -180
    },
    "id": "nWOLHYHSUkDL",
    "outputId": "5ad52dc6-e82e-48fb-89a7-d911e85d137b"
   },
   "outputs": [
    {
     "name": "stdout",
     "output_type": "stream",
     "text": [
      "Train accuracy: 92.698413\n"
     ]
    }
   ],
   "source": [
    "y_train_predict = np.zeros(n_train)\n",
    "for i in range(n_train):\n",
    "    y_train_predict[i] = predict(dataX_train[i], w1, b1, w2, b2)\n",
    "\n",
    "print(\"Train accuracy: %f\" % get_accuracy(y_train_predict, dataY_train))"
   ]
  },
  {
   "cell_type": "markdown",
   "metadata": {
    "colab_type": "text",
    "id": "QXY0TXHoUkDO"
   },
   "source": [
    "<font color=\"red\"> **[PROBLEM IV]**: </font>   \n",
    "<font color=\"red\"> Calculate accuracy on the test set </font>"
   ]
  },
  {
   "cell_type": "code",
   "execution_count": 84,
   "metadata": {
    "colab": {
     "base_uri": "https://localhost:8080/",
     "height": 35
    },
    "colab_type": "code",
    "executionInfo": {
     "elapsed": 829,
     "status": "ok",
     "timestamp": 1563405945363,
     "user": {
      "displayName": "Andrey Lyubonko",
      "photoUrl": "",
      "userId": "14195748931596322145"
     },
     "user_tz": -180
    },
    "id": "h_JSf4NcUkDP",
    "outputId": "000bc19c-f36d-44d6-96fb-c20dd8881fd9"
   },
   "outputs": [
    {
     "name": "stdout",
     "output_type": "stream",
     "text": [
      "Train accuracy: 91.111111\n"
     ]
    }
   ],
   "source": [
    "y_test_predict = np.zeros(n_test)\n",
    "for i in range(n_test):\n",
    "    y_test_predict[i] = predict(dataX_test[i], w1, b1, w2, b2)\n",
    "\n",
    "print(\"Train accuracy: %f\" % get_accuracy(y_test_predict, dataY_test))"
   ]
  },
  {
   "cell_type": "markdown",
   "metadata": {
    "colab_type": "text",
    "id": "1fPujWJSUkDR"
   },
   "source": [
    "* Visualize decision boundary"
   ]
  },
  {
   "cell_type": "code",
   "execution_count": 85,
   "metadata": {
    "colab": {
     "base_uri": "https://localhost:8080/",
     "height": 353
    },
    "colab_type": "code",
    "executionInfo": {
     "elapsed": 51284,
     "status": "ok",
     "timestamp": 1563405632672,
     "user": {
      "displayName": "Andrey Lyubonko",
      "photoUrl": "",
      "userId": "14195748931596322145"
     },
     "user_tz": -180
    },
    "id": "qg0G8AhXUkDR",
    "outputId": "0ae13449-8de7-4a83-b9fc-05aab8a66f37"
   },
   "outputs": [
    {
     "data": {
      "image/png": "[encoded data removed]",
      "text/plain": [
       "<Figure size 720x360 with 1 Axes>"
      ]
     },
     "metadata": {
      "needs_background": "light"
     },
     "output_type": "display_data"
    }
   ],
   "source": [
    "Nspace = 100\n",
    "x1space = np.linspace(-9, 9, Nspace)\n",
    "x2space = np.linspace(-5, 12, Nspace)\n",
    "X,Y = np.meshgrid(x1space, x2space)\n",
    "\n",
    "Z = np.zeros((Nspace,Nspace))\n",
    "for i in range(Nspace):\n",
    "    for j in range(Nspace):\n",
    "        x1 = x1space[j]\n",
    "        y1 = x2space[i]\n",
    "        x = np.array([x1,y1])\n",
    "        Z[i,j] = predict(x, w1, b1, w2, b2)\n",
    "\n",
    "plt.figure(figsize=(10,5))\n",
    "plt.pcolor(X, Y, Z, vmin=abs(Z).min(), vmax=abs(Z).max())\n",
    "\n",
    "plt.xlabel('feature #1')\n",
    "plt.ylabel('feature #2')\n",
    "plt.xlim(-9, 9)\n",
    "plt.ylim(-5, 12);"
   ]
  },
  {
   "cell_type": "markdown",
   "metadata": {
    "colab_type": "text",
    "id": "QgUtCc5dUkDV"
   },
   "source": [
    "## Two-layer Network, again ...  (with nn package) \n",
    "\n",
    "$$x_{hidden} = RELU(x  \\cdot W_1 + b_1)$$\n",
    "$$y_{pred} = x_{hidden} \\cdot W_2 + b_2$$"
   ]
  },
  {
   "cell_type": "markdown",
   "metadata": {
    "colab_type": "text",
    "id": "a5dNWjSAUkDV"
   },
   "source": [
    "After some hard work we will use torch with all its power and elegance.  "
   ]
  },
  {
   "cell_type": "markdown",
   "metadata": {
    "colab_type": "text",
    "id": "AtPNVmOUUkDW"
   },
   "source": [
    "* Model"
   ]
  },
  {
   "cell_type": "code",
   "execution_count": 88,
   "metadata": {
    "colab": {},
    "colab_type": "code",
    "id": "qgAnFXS2Zz_V"
   },
   "outputs": [],
   "source": [
    "class Net(nn.Module):\n",
    "  \n",
    "    def __init__(self, dim_in, dim_hidden, dim_out):\n",
    "        super(Net, self).__init__()\n",
    "        self.fc1 = nn.Linear(dim_in, dim_hidden)\n",
    "        self.fc2 = nn.Linear(dim_hidden, dim_out)\n",
    "\n",
    "    def forward(self, x):\n",
    "        x = self.fc2(F.relu(self.fc1(x)))\n",
    "        return x"
   ]
  },
  {
   "cell_type": "code",
   "execution_count": 89,
   "metadata": {
    "colab": {},
    "colab_type": "code",
    "id": "PW3AQyDnUkDa"
   },
   "outputs": [],
   "source": [
    "model = Net(dim_in, dim_hidden, dim_out)"
   ]
  },
  {
   "cell_type": "markdown",
   "metadata": {
    "colab_type": "text",
    "id": "AJY2KW22UkDc"
   },
   "source": [
    "* Loss (we will use cross-entropy loss)"
   ]
  },
  {
   "cell_type": "code",
   "execution_count": 90,
   "metadata": {
    "colab": {},
    "colab_type": "code",
    "id": "O0JWFwx7UkDd"
   },
   "outputs": [],
   "source": [
    "criterion = nn.CrossEntropyLoss()"
   ]
  },
  {
   "cell_type": "code",
   "execution_count": 91,
   "metadata": {
    "colab": {},
    "colab_type": "code",
    "id": "6CAjIBGWUkDf"
   },
   "outputs": [],
   "source": [
    "# input \n",
    "x = torch.from_numpy(dataX_train).type(dtype_torch)\n",
    "y = torch.from_numpy(dataY_train).type(torch.LongTensor)"
   ]
  },
  {
   "cell_type": "code",
   "execution_count": 92,
   "metadata": {
    "colab": {},
    "colab_type": "code",
    "id": "ZG-zxJaFUkDh"
   },
   "outputs": [],
   "source": [
    "learning_rate = 1e-2\n",
    "n_iteration = 1000"
   ]
  },
  {
   "cell_type": "code",
   "execution_count": 93,
   "metadata": {
    "colab": {
     "base_uri": "https://localhost:8080/",
     "height": 197
    },
    "colab_type": "code",
    "executionInfo": {
     "elapsed": 52649,
     "status": "ok",
     "timestamp": 1563405634070,
     "user": {
      "displayName": "Andrey Lyubonko",
      "photoUrl": "",
      "userId": "14195748931596322145"
     },
     "user_tz": -180
    },
    "id": "Yt1TewKOUkDk",
    "outputId": "c80b6060-ee0e-4f7b-de46-f76dd2327eb3"
   },
   "outputs": [
    {
     "name": "stdout",
     "output_type": "stream",
     "text": [
      "0 2.0905210971832275\n",
      "100 0.3366064131259918\n",
      "200 0.26737046241760254\n",
      "300 0.23235100507736206\n",
      "400 0.2107696831226349\n",
      "500 0.1961551308631897\n",
      "600 0.18564097583293915\n",
      "700 0.17775438725948334\n",
      "800 0.17164236307144165\n",
      "900 0.16678868234157562\n"
     ]
    }
   ],
   "source": [
    "logger = {}\n",
    "logger['iteration'] = []\n",
    "logger['loss_iteration'] = []\n",
    "\n",
    "for t in range(n_iteration):  \n",
    "    \n",
    "    # forward pass\n",
    "    y_pred = model(x)\n",
    "    \n",
    "    # compute loss\n",
    "    loss = criterion(y_pred, y)\n",
    "\n",
    "    # backprop\n",
    "    loss.backward()\n",
    "\n",
    "    # update weights using gradient descent  \n",
    "    for param in model.parameters():\n",
    "        param.data -= learning_rate * param.grad.data \n",
    "    \n",
    "    # manually zero the gradients\n",
    "    model.zero_grad()  \n",
    "    \n",
    "    # reporting & logging       \n",
    "    if t % 100 == 0:\n",
    "        print(t, loss.item())\n",
    "        \n",
    "    logger['iteration'] += [t]\n",
    "    logger['loss_iteration'] += [loss.item()]"
   ]
  },
  {
   "cell_type": "code",
   "execution_count": 94,
   "metadata": {
    "colab": {
     "base_uri": "https://localhost:8080/",
     "height": 353
    },
    "colab_type": "code",
    "executionInfo": {
     "elapsed": 53221,
     "status": "ok",
     "timestamp": 1563405634656,
     "user": {
      "displayName": "Andrey Lyubonko",
      "photoUrl": "",
      "userId": "14195748931596322145"
     },
     "user_tz": -180
    },
    "id": "loaofwicUkDo",
    "outputId": "7ecfa2f6-cb22-4372-ed67-c970e1e646cb"
   },
   "outputs": [
    {
     "data": {
      "image/png": "[encoded data removed]",
      "text/plain": [
       "<Figure size 720x360 with 1 Axes>"
      ]
     },
     "metadata": {
      "needs_background": "light"
     },
     "output_type": "display_data"
    }
   ],
   "source": [
    "# visualize loss\n",
    "plt.figure(figsize=(10,5))\n",
    "plt.plot(logger['iteration'], logger['loss_iteration'],'ob', label=\"loss\")\n",
    "\n",
    "plt.xlabel('iteration')\n",
    "plt.ylabel('loss');"
   ]
  },
  {
   "cell_type": "code",
   "execution_count": 95,
   "metadata": {
    "colab": {},
    "colab_type": "code",
    "id": "AE7MW8OoUkDq"
   },
   "outputs": [],
   "source": [
    "def predict(x, model):\n",
    "    \"\"\"\n",
    "    Prediction based on two-layer model\n",
    "    \n",
    "    Args:\n",
    "        x (numpy.array): feature vector of a sample\n",
    "         \n",
    "    Returns:\n",
    "        scalar: predicted class for this sample\n",
    "    \"\"\"    \n",
    "    t = torch.from_numpy(x).type(dtype_torch)\n",
    "    forward_pass = model(t)\n",
    "    return np.argmax(forward_pass.data.numpy(), axis=1)"
   ]
  },
  {
   "cell_type": "code",
   "execution_count": 96,
   "metadata": {
    "colab": {
     "base_uri": "https://localhost:8080/",
     "height": 53
    },
    "colab_type": "code",
    "executionInfo": {
     "elapsed": 53210,
     "status": "ok",
     "timestamp": 1563405634661,
     "user": {
      "displayName": "Andrey Lyubonko",
      "photoUrl": "",
      "userId": "14195748931596322145"
     },
     "user_tz": -180
    },
    "id": "YvjiWaxTUkDs",
    "outputId": "94a6a695-26d6-4489-a413-df45aa513132"
   },
   "outputs": [
    {
     "name": "stdout",
     "output_type": "stream",
     "text": [
      "Train accuracy: 95.238095\n",
      "Test accuracy: 95.925926\n"
     ]
    }
   ],
   "source": [
    "y_train_predict = predict(dataX_train,model)\n",
    "print(\"Train accuracy: %f\" % get_accuracy(y_train_predict, dataY_train))\n",
    "\n",
    "y_test_predict = predict(dataX_test, model)\n",
    "print(\"Test accuracy: %f\" % get_accuracy(y_test_predict, dataY_test))"
   ]
  },
  {
   "cell_type": "markdown",
   "metadata": {
    "colab": {},
    "colab_type": "code",
    "collapsed": true,
    "id": "yBs1uv1CUkD-"
   },
   "source": [
    "<font color=\"red\"> **[PROBLEM V]**: </font>   \n",
    "<font color=\"red\"> Try to implement & test network from DL course using pytorch and this toy dataset.\n",
    "\n",
    " </font>  \n",
    " \n",
    "![tensor](https://drive.google.com/uc?id=1CteXB_bD36LzsopgIQRJymYMGdYq_ZL3)"
   ]
  },
  {
   "cell_type": "code",
   "execution_count": null,
   "metadata": {
    "collapsed": true
   },
   "outputs": [],
   "source": []
  }
 ],
 "metadata": {
  "colab": {
   "collapsed_sections": [],
   "name": "a2_simple_network.ipynb",
   "provenance": [],
   "version": "0.3.2"
  },
  "kernelspec": {
   "display_name": "Python 3",
   "language": "python",
   "name": "python3"
  },
  "language_info": {
   "codemirror_mode": {
    "name": "ipython",
    "version": 3
   },
   "file_extension": ".py",
   "mimetype": "text/x-python",
   "name": "python",
   "nbconvert_exporter": "python",
   "pygments_lexer": "ipython3",
   "version": "3.6.7"
  }
 },
 "nbformat": 4,
 "nbformat_minor": 1
}
