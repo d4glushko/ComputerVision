{
 "cells": [
  {
   "cell_type": "markdown",
   "metadata": {
    "colab_type": "text",
    "id": "GbaoBUZtlkvu"
   },
   "source": [
    "*Notebook conventions:*\n",
    "\n",
    "* <font color=\"red\">assignment problem</font>. The red color indicates the task that should be done\n",
    "* <font color=\"green\">debugging</font>. The green tells you what is expected outcome. Its primarily goal is to help you get the correct answer\n",
    "* <font color=\"blue\">comments, hints</font>.\n",
    "\n",
    "Assignment 1 (pytorch basics)\n",
    "======================\n",
    "\n"
   ]
  },
  {
   "cell_type": "markdown",
   "metadata": {
    "colab_type": "text",
    "id": "637S0mjilkvv"
   },
   "source": [
    "![pytorch](https://upload.wikimedia.org/wikipedia/commons/9/96/Pytorch_logo.png)"
   ]
  },
  {
   "cell_type": "markdown",
   "metadata": {
    "colab_type": "text",
    "id": "-aEaNoZtlkvw"
   },
   "source": [
    "#### Useful Links:\n",
    "\n",
    "* pytorch official documentation\n",
    "http://pytorch.org/docs/master/index.html\n",
    "\n",
    "* pytorch discussion\n",
    "https://discuss.pytorch.org/\n",
    "\n",
    "* pytorch official tutorials\n",
    "https://pytorch.org/tutorials/\n",
    "\n",
    "* pytorch tutorials (a bit more advance than official)\n",
    "https://github.com/yunjey/pytorch-tutorial\n",
    "\n",
    "* TODO: more?\n"
   ]
  },
  {
   "cell_type": "markdown",
   "metadata": {
    "colab_type": "text",
    "id": "yjTBYu_blkvx"
   },
   "source": [
    "### Preliminaries"
   ]
  },
  {
   "cell_type": "code",
   "execution_count": 2,
   "metadata": {
    "colab": {},
    "colab_type": "code",
    "id": "agpPjG0Mlkv2"
   },
   "outputs": [],
   "source": [
    "import numpy as np\n",
    "import torch\n",
    "import torchvision"
   ]
  },
  {
   "cell_type": "code",
   "execution_count": 3,
   "metadata": {
    "colab": {
     "base_uri": "https://localhost:8080/",
     "height": 71
    },
    "colab_type": "code",
    "executionInfo": {
     "elapsed": 1924,
     "status": "ok",
     "timestamp": 1563405241745,
     "user": {
      "displayName": "Andrey Lyubonko",
      "photoUrl": "",
      "userId": "14195748931596322145"
     },
     "user_tz": -180
    },
    "id": "RKHlgFk8IUdT",
    "outputId": "2a5f471d-4411-468e-b9ff-6f55efdeedd3"
   },
   "outputs": [
    {
     "name": "stdout",
     "output_type": "stream",
     "text": [
      "python version:          3.6.7\n",
      "torch version:           1.1.0\n",
      "torchvision version:     0.3.0\n"
     ]
    }
   ],
   "source": [
    "# check versions\n",
    "from platform import python_version\n",
    "print(\"python version:\".ljust(25) + python_version())\n",
    "print(\"torch version:\".ljust(25) + torch.__version__)\n",
    "print(\"torchvision version:\".ljust(25) + torchvision.__version__)"
   ]
  },
  {
   "cell_type": "code",
   "execution_count": 4,
   "metadata": {
    "colab": {},
    "colab_type": "code",
    "id": "x9w2ph2LFEM2"
   },
   "outputs": [
    {
     "ename": "ModuleNotFoundError",
     "evalue": "No module named 'google.colab'",
     "output_type": "error",
     "traceback": [
      "\u001b[0;31m---------------------------------------------------------------------------\u001b[0m",
      "\u001b[0;31mModuleNotFoundError\u001b[0m                       Traceback (most recent call last)",
      "\u001b[0;32m<ipython-input-4-999522a3b536>\u001b[0m in \u001b[0;36m<module>\u001b[0;34m\u001b[0m\n\u001b[1;32m      1\u001b[0m \u001b[0;31m# TODO: not sure I need it here\u001b[0m\u001b[0;34m\u001b[0m\u001b[0;34m\u001b[0m\u001b[0;34m\u001b[0m\u001b[0m\n\u001b[0;32m----> 2\u001b[0;31m \u001b[0;32mfrom\u001b[0m \u001b[0mgoogle\u001b[0m\u001b[0;34m.\u001b[0m\u001b[0mcolab\u001b[0m \u001b[0;32mimport\u001b[0m \u001b[0mfiles\u001b[0m\u001b[0;34m\u001b[0m\u001b[0;34m\u001b[0m\u001b[0m\n\u001b[0m",
      "\u001b[0;31mModuleNotFoundError\u001b[0m: No module named 'google.colab'"
     ]
    }
   ],
   "source": [
    "# TODO: not sure I need it here\n",
    "from google.colab import files"
   ]
  },
  {
   "cell_type": "code",
   "execution_count": 5,
   "metadata": {
    "colab": {},
    "colab_type": "code",
    "id": "yCxjj52jlkv5"
   },
   "outputs": [],
   "source": [
    "# random seed settings\n",
    "torch.manual_seed(42)\n",
    "np.random.seed(42)"
   ]
  },
  {
   "cell_type": "markdown",
   "metadata": {
    "colab_type": "text",
    "id": "ZRnBcOudlkv8"
   },
   "source": [
    "###  Tensors"
   ]
  },
  {
   "cell_type": "markdown",
   "metadata": {
    "colab_type": "text",
    "id": "34t2aUsZlkv9"
   },
   "source": [
    "One of the main data type in pytorch is tensor.\n",
    "We will start with the concept of tensor and how it is used in pytorch\n",
    "\n",
    "![tensor](https://drive.google.com/uc?id=1LIthDTyj0tuz2VbewX7HGInseyFY-tpP)"
   ]
  },
  {
   "cell_type": "markdown",
   "metadata": {
    "colab_type": "text",
    "id": "41I0TEmRlkv-"
   },
   "source": [
    "#### Tensor Initialization"
   ]
  },
  {
   "cell_type": "code",
   "execution_count": 33,
   "metadata": {
    "colab": {
     "base_uri": "https://localhost:8080/",
     "height": 125
    },
    "colab_type": "code",
    "executionInfo": {
     "elapsed": 1901,
     "status": "ok",
     "timestamp": 1563405241754,
     "user": {
      "displayName": "Andrey Lyubonko",
      "photoUrl": "",
      "userId": "14195748931596322145"
     },
     "user_tz": -180
    },
    "id": "w63UyQFvlkv_",
    "outputId": "5fddd95e-8a84-487a-e03d-7c24429561d2"
   },
   "outputs": [
    {
     "name": "stdout",
     "output_type": "stream",
     "text": [
      " * the first 4 elements of 'v' are:\n",
      "tensor([1.3414e+05, 4.5659e-41, 1.3414e+05, 4.5659e-41])\n",
      " * the first 4 elements of 'v' are:\n",
      "tensor([0, 1, 2, 3])\n",
      " * the size of the 'v' is \n",
      "torch.Size([64])\n"
     ]
    }
   ],
   "source": [
    "# 1d tensor of size 64 of type float (default)\n",
    "# (this tensor is initialized with default values close to zero)\n",
    "v = torch.empty(64)\n",
    "\n",
    "print(\" * the first 4 elements of 'v' are:\")\n",
    "print(v[:4]) # print the first four elements of the tensor\n",
    "\n",
    "# initialize with array [0,1,...,63]\n",
    "v = torch.arange(0,64)\n",
    "\n",
    "print(\" * the first 4 elements of 'v' are:\")\n",
    "print(v[:4]) # print the first four elements of the tensor\n",
    "\n",
    "print(\" * the size of the 'v' is \")\n",
    "print(v.size())"
   ]
  },
  {
   "cell_type": "code",
   "execution_count": 34,
   "metadata": {
    "colab": {
     "base_uri": "https://localhost:8080/",
     "height": 269
    },
    "colab_type": "code",
    "executionInfo": {
     "elapsed": 1876,
     "status": "ok",
     "timestamp": 1563405241756,
     "user": {
      "displayName": "Andrey Lyubonko",
      "photoUrl": "",
      "userId": "14195748931596322145"
     },
     "user_tz": -180
    },
    "id": "i_FCufMClkwE",
    "outputId": "b11fdafe-ec8a-4cc9-e330-c3a5de2842a1"
   },
   "outputs": [
    {
     "name": "stdout",
     "output_type": "stream",
     "text": [
      " * the last 4 elements of 'x' are:\n",
      "tensor([[0, 0, 0, 0],\n",
      "        [0, 0, 0, 0],\n",
      "        [0, 0, 0, 0],\n",
      "        [0, 0, 0, 0]])\n",
      " * the last 4 elements of 'x' are:\n",
      "tensor([[1., 1., 1., 1.],\n",
      "        [1., 1., 1., 1.],\n",
      "        [1., 1., 1., 1.],\n",
      "        [1., 1., 1., 1.]])\n",
      " * the size of the 'x' is \n",
      "torch.Size([8, 8])\n",
      " * the size of the 'x' can also be obtained by familar from numpy 'shape' command\n",
      "torch.Size([8, 8])\n"
     ]
    }
   ],
   "source": [
    "# 2d tensor of size 64 of type float\n",
    "x = torch.zeros(8, 8, dtype=torch.long)\n",
    "\n",
    "print(\" * the last 4 elements of 'x' are:\")\n",
    "print(x[:4,:4]) # print the last four elements of the tensor\n",
    "\n",
    "# initialize with array all ones\n",
    "x = torch.ones(8, 8, dtype=torch.float)\n",
    "\n",
    "print(\" * the last 4 elements of 'x' are:\")\n",
    "print(x[:4, :4]) # print the last four elements of the tensor\n",
    "\n",
    "print(\" * the size of the 'x' is \")\n",
    "print(x.size())\n",
    "\n",
    "print(\" * the size of the 'x' can also be obtained by familar from numpy 'shape' command\")\n",
    "print(x.shape)"
   ]
  },
  {
   "cell_type": "markdown",
   "metadata": {
    "colab_type": "text",
    "id": "yIxLwDqJlkwI"
   },
   "source": [
    "-----\n",
    "\n",
    " <font color=\"red\">**[PROBLEM I]:** </font> \n",
    "\n",
    " <font color=\"red\"> Initialize X </font>     \n",
    " <font color=\"red\"> 3d Tensor of size (4,4,4) </font>   \n",
    " <font color=\"red\"> of type int32 with all elements equal to 10 </font>   \n",
    "\n",
    "-----"
   ]
  },
  {
   "cell_type": "code",
   "execution_count": 35,
   "metadata": {
    "colab": {},
    "colab_type": "code",
    "id": "IDKTCF-FlkwJ"
   },
   "outputs": [],
   "source": [
    "X = torch.full([4,4,4], 10, dtype=torch.float32)"
   ]
  },
  {
   "cell_type": "code",
   "execution_count": 36,
   "metadata": {
    "colab": {
     "base_uri": "https://localhost:8080/",
     "height": 35
    },
    "colab_type": "code",
    "executionInfo": {
     "elapsed": 1849,
     "status": "ok",
     "timestamp": 1563405241762,
     "user": {
      "displayName": "Andrey Lyubonko",
      "photoUrl": "",
      "userId": "14195748931596322145"
     },
     "user_tz": -180
    },
    "id": "9PBunfBLlkwL",
    "outputId": "0f878c69-4971-4c60-f554-1ada19349435"
   },
   "outputs": [
    {
     "data": {
      "text/plain": [
       "torch.Size([4, 4, 4])"
      ]
     },
     "execution_count": 36,
     "metadata": {},
     "output_type": "execute_result"
    }
   ],
   "source": [
    "X.shape"
   ]
  },
  {
   "cell_type": "markdown",
   "metadata": {
    "colab_type": "text",
    "id": "V6lo7g0vlkwP"
   },
   "source": [
    "#### Reshaping, broadcasting"
   ]
  },
  {
   "cell_type": "markdown",
   "metadata": {
    "colab_type": "text",
    "id": "tvQ9VswXlkwQ"
   },
   "source": [
    "Tensor reshaping is done with command 'view':"
   ]
  },
  {
   "cell_type": "code",
   "execution_count": 37,
   "metadata": {
    "colab": {
     "base_uri": "https://localhost:8080/",
     "height": 71
    },
    "colab_type": "code",
    "executionInfo": {
     "elapsed": 1584,
     "status": "ok",
     "timestamp": 1563405241763,
     "user": {
      "displayName": "Andrey Lyubonko",
      "photoUrl": "",
      "userId": "14195748931596322145"
     },
     "user_tz": -180
    },
    "id": "9EZqQ4bolkwR",
    "outputId": "6a527b30-8aa3-4947-8aa3-5013586fef44"
   },
   "outputs": [
    {
     "name": "stdout",
     "output_type": "stream",
     "text": [
      "tensor([[1, 2],\n",
      "        [3, 4]])\n",
      "tensor([1, 2, 3, 4])\n"
     ]
    }
   ],
   "source": [
    "a = torch.tensor([[1,2], [3,4]])\n",
    "a_reshaped = a.view(4) # reshape into one-dimensional tensor of size 4\n",
    "\n",
    "print(a)\n",
    "print(a_reshaped)"
   ]
  },
  {
   "cell_type": "markdown",
   "metadata": {
    "colab_type": "text",
    "id": "PbfinsFPlkwU"
   },
   "source": [
    "-----\n",
    "\n",
    " <font color=\"red\"> **[PROBLEM II]:** </font> \n",
    "\n",
    " <font color=\"red\"> Use command 'view' to reshape v and X into 2d tensor --> v' and X'. </font>  \n",
    "  <font color=\"red\">Also convet all tensors to type double </font>\n",
    " <font color=\"red\"> Perform addition of these reshaped tensors, namely calculate v' + X' + x </font>  \n",
    " <font color=\"red\"> Finally display the result. </font>\n",
    "\n",
    "-----"
   ]
  },
  {
   "cell_type": "code",
   "execution_count": 42,
   "metadata": {},
   "outputs": [
    {
     "data": {
      "text/plain": [
       "tensor([ 0,  1,  2,  3,  4,  5,  6,  7,  8,  9, 10, 11, 12, 13, 14, 15, 16, 17,\n",
       "        18, 19, 20, 21, 22, 23, 24, 25, 26, 27, 28, 29, 30, 31, 32, 33, 34, 35,\n",
       "        36, 37, 38, 39, 40, 41, 42, 43, 44, 45, 46, 47, 48, 49, 50, 51, 52, 53,\n",
       "        54, 55, 56, 57, 58, 59, 60, 61, 62, 63])"
      ]
     },
     "execution_count": 42,
     "metadata": {},
     "output_type": "execute_result"
    }
   ],
   "source": [
    "v"
   ]
  },
  {
   "cell_type": "code",
   "execution_count": 43,
   "metadata": {},
   "outputs": [
    {
     "data": {
      "text/plain": [
       "tensor([[[10., 10., 10., 10.],\n",
       "         [10., 10., 10., 10.],\n",
       "         [10., 10., 10., 10.],\n",
       "         [10., 10., 10., 10.]],\n",
       "\n",
       "        [[10., 10., 10., 10.],\n",
       "         [10., 10., 10., 10.],\n",
       "         [10., 10., 10., 10.],\n",
       "         [10., 10., 10., 10.]],\n",
       "\n",
       "        [[10., 10., 10., 10.],\n",
       "         [10., 10., 10., 10.],\n",
       "         [10., 10., 10., 10.],\n",
       "         [10., 10., 10., 10.]],\n",
       "\n",
       "        [[10., 10., 10., 10.],\n",
       "         [10., 10., 10., 10.],\n",
       "         [10., 10., 10., 10.],\n",
       "         [10., 10., 10., 10.]]])"
      ]
     },
     "execution_count": 43,
     "metadata": {},
     "output_type": "execute_result"
    }
   ],
   "source": [
    "X"
   ]
  },
  {
   "cell_type": "code",
   "execution_count": 45,
   "metadata": {},
   "outputs": [
    {
     "data": {
      "text/plain": [
       "tensor([[11., 12., 13., 14., 15., 16., 17., 18.],\n",
       "        [19., 20., 21., 22., 23., 24., 25., 26.],\n",
       "        [27., 28., 29., 30., 31., 32., 33., 34.],\n",
       "        [35., 36., 37., 38., 39., 40., 41., 42.],\n",
       "        [43., 44., 45., 46., 47., 48., 49., 50.],\n",
       "        [51., 52., 53., 54., 55., 56., 57., 58.],\n",
       "        [59., 60., 61., 62., 63., 64., 65., 66.],\n",
       "        [67., 68., 69., 70., 71., 72., 73., 74.]], dtype=torch.float64)"
      ]
     },
     "execution_count": 45,
     "metadata": {},
     "output_type": "execute_result"
    }
   ],
   "source": [
    "v_ = v.view((8,8)).type(torch.double)\n",
    "X_ = X.view((8,8)).type(torch.double)\n",
    "torch.add(torch.add(v_, X_), x.type(torch.double))"
   ]
  },
  {
   "cell_type": "markdown",
   "metadata": {
    "colab_type": "text",
    "id": "7MIoop_flkwY"
   },
   "source": [
    "### Operations on Tensors"
   ]
  },
  {
   "cell_type": "markdown",
   "metadata": {
    "colab_type": "text",
    "id": "ob2KRkFRRScX"
   },
   "source": [
    "relevant tutorial\n",
    "https://pytorch.org/tutorials/beginner/blitz/tensor_tutorial.html#operations"
   ]
  },
  {
   "cell_type": "markdown",
   "metadata": {
    "colab_type": "text",
    "id": "lo6Y9pB8lkwZ"
   },
   "source": [
    "There are multiple syntaxes for operations. Let us look for addition operation."
   ]
  },
  {
   "cell_type": "code",
   "execution_count": 0,
   "metadata": {
    "colab": {},
    "colab_type": "code",
    "collapsed": true,
    "id": "zeUMQde7Rnyo"
   },
   "outputs": [],
   "source": [
    "x = x[:4,:4]\n",
    "y = v.type(torch.float).view(8,8)[:4,:4]"
   ]
  },
  {
   "cell_type": "code",
   "execution_count": 12,
   "metadata": {
    "colab": {
     "base_uri": "https://localhost:8080/",
     "height": 233
    },
    "colab_type": "code",
    "executionInfo": {
     "elapsed": 799,
     "status": "ok",
     "timestamp": 1563405242762,
     "user": {
      "displayName": "Andrey Lyubonko",
      "photoUrl": "",
      "userId": "14195748931596322145"
     },
     "user_tz": -180
    },
    "id": "Jx9pgVR-RxfU",
    "outputId": "cc968ad9-b688-4d01-8aac-8f20d52cf4b3"
   },
   "outputs": [
    {
     "name": "stdout",
     "output_type": "stream",
     "text": [
      "tensor([[ 1.,  2.,  3.,  4.],\n",
      "        [ 9., 10., 11., 12.],\n",
      "        [17., 18., 19., 20.],\n",
      "        [25., 26., 27., 28.]])\n",
      "tensor([[ 1.,  2.,  3.,  4.],\n",
      "        [ 9., 10., 11., 12.],\n",
      "        [17., 18., 19., 20.],\n",
      "        [25., 26., 27., 28.]])\n",
      "tensor([[ 1.,  2.,  3.,  4.],\n",
      "        [ 9., 10., 11., 12.],\n",
      "        [17., 18., 19., 20.],\n",
      "        [25., 26., 27., 28.]])\n"
     ]
    }
   ],
   "source": [
    "print(torch.add(x, y))\n",
    "print(x + y)\n",
    "result = torch.empty_like(x)\n",
    "torch.add(x, y, out=result)\n",
    "print(result)"
   ]
  },
  {
   "cell_type": "markdown",
   "metadata": {
    "colab_type": "text",
    "id": "Mk9fcUnjS1lK"
   },
   "source": [
    "inplace addition"
   ]
  },
  {
   "cell_type": "code",
   "execution_count": 13,
   "metadata": {
    "colab": {
     "base_uri": "https://localhost:8080/",
     "height": 161
    },
    "colab_type": "code",
    "executionInfo": {
     "elapsed": 715,
     "status": "ok",
     "timestamp": 1563405243424,
     "user": {
      "displayName": "Andrey Lyubonko",
      "photoUrl": "",
      "userId": "14195748931596322145"
     },
     "user_tz": -180
    },
    "id": "TBuUEX71Rxou",
    "outputId": "1563d862-e427-41e3-d382-214303ed1c33"
   },
   "outputs": [
    {
     "name": "stdout",
     "output_type": "stream",
     "text": [
      "tensor([[1., 1., 1., 1.],\n",
      "        [1., 1., 1., 1.],\n",
      "        [1., 1., 1., 1.],\n",
      "        [1., 1., 1., 1.]])\n",
      "tensor([[ 1.,  2.,  3.,  4.],\n",
      "        [ 9., 10., 11., 12.],\n",
      "        [17., 18., 19., 20.],\n",
      "        [25., 26., 27., 28.]])\n"
     ]
    }
   ],
   "source": [
    "print(x)\n",
    "x.add_(y)\n",
    "print(x)"
   ]
  },
  {
   "cell_type": "markdown",
   "metadata": {
    "colab_type": "text",
    "id": "tJdssKMxlkwe"
   },
   "source": [
    "### Numpy bridge"
   ]
  },
  {
   "cell_type": "code",
   "execution_count": 14,
   "metadata": {
    "colab": {
     "base_uri": "https://localhost:8080/",
     "height": 125
    },
    "colab_type": "code",
    "executionInfo": {
     "elapsed": 545,
     "status": "ok",
     "timestamp": 1563405243772,
     "user": {
      "displayName": "Andrey Lyubonko",
      "photoUrl": "",
      "userId": "14195748931596322145"
     },
     "user_tz": -180
    },
    "id": "88VK_9Jylkwe",
    "outputId": "56dd0c1c-b21b-4e3e-cdee-4733a0de93dd"
   },
   "outputs": [
    {
     "name": "stdout",
     "output_type": "stream",
     "text": [
      "[[1 2]\n",
      " [3 4]] <class 'numpy.ndarray'>\n",
      "tensor([[1, 3],\n",
      "        [2, 4]]) <class 'torch.Tensor'>\n",
      "[[1 3]\n",
      " [2 4]] <class 'numpy.ndarray'>\n"
     ]
    }
   ],
   "source": [
    "# create numpy array\n",
    "a = np.array([[1,2], [3,4]])\n",
    "# transform numpy array into torch.Tensor\n",
    "b = torch.from_numpy(a)\n",
    "# make operation on this Tensor (in this case transpose)\n",
    "b = b.transpose(1,0)\n",
    "# transform back to numpy\n",
    "c = b.numpy()                \n",
    "\n",
    "print(a, type(a))\n",
    "print(b, type(b))\n",
    "print(c, type(c))"
   ]
  },
  {
   "cell_type": "markdown",
   "metadata": {
    "colab_type": "text",
    "id": "b16o5QKFlkwi"
   },
   "source": [
    "-----\n",
    "\n",
    " <font color=\"red\"> **[PROBLEM III]:** </font> "
   ]
  },
  {
   "cell_type": "code",
   "execution_count": 0,
   "metadata": {
    "colab": {},
    "colab_type": "code",
    "collapsed": true,
    "id": "TC2oFY8llkwj"
   },
   "outputs": [],
   "source": [
    "# using these two random matrices do the following:\n",
    "x = np.random.randn(3, 10)\n",
    "y = np.random.randn(4, 10)"
   ]
  },
  {
   "cell_type": "markdown",
   "metadata": {
    "colab_type": "text",
    "id": "_cE4jEhBlkwm"
   },
   "source": [
    "<span style=\"color:red\"> Do the following: </span>\n",
    "* <span style=\"color:red\">transform $\\mathbf{x}$ and $\\mathbf{y}$ to torch.Tensors</span>\n",
    "* <span style=\"color:red\">perform matrix mutliplication $\\mathbf{r1} = \\mathbf{x} \\cdot \\mathbf{y^T} $</span>  \n",
    "<span style=\"color:blue\"> look in for pytorch function http://pytorch.org/docs/master/torch.html#torch.mm </span>  \n",
    "* <span style=\"color:red\">perform matrix element-wise mutliplication $\\mathbf{r2} = \\mathbf{r1} \\cdot \\mathbf{r1} $</span>  \n",
    "<span style=\"color:blue\"> look in for pytorch function http://pytorch.org/docs/master/torch.html#torch.mul </span> \n",
    "* <span style=\"color:red\">perform scalar addition and scalar multiplication $\\mathbf{r3} = 2 * \\mathbf{r2} + 3 $</span>  \n",
    "* <span style=\"color:red\">transform the result back to numpy </span>\n",
    "\n",
    "-----"
   ]
  },
  {
   "cell_type": "code",
   "execution_count": 16,
   "metadata": {
    "colab": {
     "base_uri": "https://localhost:8080/",
     "height": 71
    },
    "colab_type": "code",
    "executionInfo": {
     "elapsed": 321,
     "status": "ok",
     "timestamp": 1563405244608,
     "user": {
      "displayName": "Andrey Lyubonko",
      "photoUrl": "",
      "userId": "14195748931596322145"
     },
     "user_tz": -180
    },
    "id": "aWDAtz54lkwn",
    "outputId": "f58c722e-e825-4bde-b121-edc6254414aa"
   },
   "outputs": [
    {
     "data": {
      "text/plain": [
       "array([[15.75251238,  4.00731333,  4.7705989 , 22.49291184],\n",
       "       [ 4.29568683, 76.39517546, 44.09112074,  5.5827972 ],\n",
       "       [ 3.75285596, 26.46251526,  3.39959147,  5.45615519]])"
      ]
     },
     "execution_count": 16,
     "metadata": {
      "tags": []
     },
     "output_type": "execute_result"
    }
   ],
   "source": [
    "# YOUR CODE HERE"
   ]
  },
  {
   "cell_type": "markdown",
   "metadata": {
    "colab_type": "text",
    "id": "U_VqL45Blkws"
   },
   "source": [
    "### CUDA stuff"
   ]
  },
  {
   "cell_type": "markdown",
   "metadata": {
    "colab_type": "text",
    "id": "pcPi-hOSlkwt"
   },
   "source": [
    "let us run on CUDA! ... if CUDA is available\n",
    "\n",
    "We will use ``torch.device`` objects to move tensors in and out of GPU"
   ]
  },
  {
   "cell_type": "code",
   "execution_count": 17,
   "metadata": {
    "colab": {
     "base_uri": "https://localhost:8080/",
     "height": 35
    },
    "colab_type": "code",
    "executionInfo": {
     "elapsed": 382,
     "status": "ok",
     "timestamp": 1563405245368,
     "user": {
      "displayName": "Andrey Lyubonko",
      "photoUrl": "",
      "userId": "14195748931596322145"
     },
     "user_tz": -180
    },
    "id": "BD0YYuiMOgkv",
    "outputId": "18b92ac8-8503-40c8-bb95-d7d2dca4fb0a"
   },
   "outputs": [
    {
     "data": {
      "text/plain": [
       "True"
      ]
     },
     "execution_count": 17,
     "metadata": {
      "tags": []
     },
     "output_type": "execute_result"
    }
   ],
   "source": [
    "torch.cuda.is_available()"
   ]
  },
  {
   "cell_type": "code",
   "execution_count": 23,
   "metadata": {
    "colab": {
     "base_uri": "https://localhost:8080/",
     "height": 53
    },
    "colab_type": "code",
    "executionInfo": {
     "elapsed": 455,
     "status": "ok",
     "timestamp": 1563405425969,
     "user": {
      "displayName": "Andrey Lyubonko",
      "photoUrl": "",
      "userId": "14195748931596322145"
     },
     "user_tz": -180
    },
    "id": "EwUaC4nXlkwv",
    "outputId": "ecb255da-b717-4dd1-a29f-f5866edabc72"
   },
   "outputs": [
    {
     "name": "stdout",
     "output_type": "stream",
     "text": [
      "tensor([-1.,  2.], device='cuda:0', grad_fn=<AddBackward0>)\n",
      "tensor([-1.,  2.], dtype=torch.float64, grad_fn=<CopyBackwards>)\n"
     ]
    }
   ],
   "source": [
    "if torch.cuda.is_available():\n",
    "    device = torch.device(\"cuda\")          # a CUDA device object\n",
    "    y = torch.ones_like(x, device=device)  # directly create a tensor on GPU\n",
    "    x = x.to(device)                       # or just use strings ``.to(\"cuda\")``\n",
    "    z = x + y\n",
    "    print(z)\n",
    "    print(z.to(\"cpu\", torch.double))       # ``.to`` can also change dtype together!"
   ]
  },
  {
   "cell_type": "markdown",
   "metadata": {
    "colab_type": "text",
    "id": "nHxHgvOfRFCA"
   },
   "source": [
    "###  Autograd: automatic differentiation"
   ]
  },
  {
   "cell_type": "markdown",
   "metadata": {
    "colab_type": "text",
    "id": "wux_2jqxRBs0"
   },
   "source": [
    "relevant tutorial\n",
    "https://pytorch.org/tutorials/beginner/blitz/autograd_tutorial.html#sphx-glr-beginner-blitz-autograd-tutorial-py\n"
   ]
  },
  {
   "cell_type": "markdown",
   "metadata": {
    "colab_type": "text",
    "id": "4FZyAlm2lkw0"
   },
   "source": [
    "*torch.Tensor* is the central class of the package. If you set its attribute *.requires_grad* as True, it starts to track all operations on it. When you finish your computation you can call *.backward()* and have all the gradients computed automatically. The gradient for this tensor will be accumulated into .grad attribute. "
   ]
  },
  {
   "cell_type": "markdown",
   "metadata": {
    "colab_type": "text",
    "id": "3XsvhS5-lkw1"
   },
   "source": [
    "**use of autograd**\n",
    "\n",
    "Lets start with simple example.\n",
    "Consider the following function:\n",
    "$$f = (x + y) \\cdot z$$\n",
    "\n",
    "For concretness let's take $x=2$, $y=-7$, $z=3$. The 'forward' calculation is shown in <span style=\"color:green\"> green </span> on the image below.\n",
    "\n",
    "Automaic differentiation provides the elegant tool to calculate derivatives of $f$ with respect to all variables, by 'backward' path.\n",
    "\n",
    "$$f = (x + y) \\cdot z = u \\cdot z $$\n",
    "\n",
    "$$ \\frac{\\partial f}{\\partial u} = z $$\n",
    "\n",
    "$$ \\frac{\\partial f}{\\partial z} = u = -5 $$\n",
    "\n",
    "$$ \\frac{\\partial f}{\\partial x} = \\frac{\\partial f}{\\partial u} \\cdot \\frac{\\partial u}{\\partial x} = z = 3$$\n",
    "\n",
    "$$ \\frac{\\partial f}{\\partial y} = \\frac{\\partial f}{\\partial u} \\cdot \\frac{\\partial u}{\\partial y} = z = 3$$\n",
    "\n",
    "![comp_graph_1](https://drive.google.com/uc?id=1jTDQCsT5jDmiIfK2Ay1n1MlCDNS8swYf)"
   ]
  },
  {
   "cell_type": "code",
   "execution_count": 19,
   "metadata": {
    "colab": {
     "base_uri": "https://localhost:8080/",
     "height": 71
    },
    "colab_type": "code",
    "executionInfo": {
     "elapsed": 357,
     "status": "ok",
     "timestamp": 1563405246943,
     "user": {
      "displayName": "Andrey Lyubonko",
      "photoUrl": "",
      "userId": "14195748931596322145"
     },
     "user_tz": -180
    },
    "id": "rWdfj0DYlkw2",
    "outputId": "a714a49e-6576-4747-ae22-e098f8912d67"
   },
   "outputs": [
    {
     "name": "stdout",
     "output_type": "stream",
     "text": [
      "tensor([3.])\n",
      "tensor([3.])\n",
      "tensor([-5.])\n"
     ]
    }
   ],
   "source": [
    "# Create tensors.\n",
    "# ('requires_grad' is False by default)\n",
    "x = torch.tensor([2.], requires_grad=True)\n",
    "y = torch.tensor([-7.], requires_grad=True)\n",
    "z = torch.tensor([3.], requires_grad=True)\n",
    "\n",
    "# Build a computational graph.\n",
    "f = (x + y) * z   \n",
    "\n",
    "# Compute gradients.\n",
    "f.backward()\n",
    "\n",
    "# Print out the gradients.\n",
    "print(x.grad)    \n",
    "print(y.grad)    \n",
    "print(z.grad) "
   ]
  },
  {
   "cell_type": "markdown",
   "metadata": {
    "colab_type": "text",
    "id": "fO2yZn6flkw5"
   },
   "source": [
    " <font color=\"red\">  **[PROBLEM IV]**: </font> \n",
    "\n",
    " Next we will consider the computational graph of the following function \n",
    "\n",
    "$$f = \\frac{1}{1 + exp^{-(w_0 \\cdot x_0 + w_1 \\cdot x_1 + b )}} = \\frac{1}{1 + exp^{-(\\mathbf{w} \\cdot \\mathbf{x} + b )}}$$\n",
    "\n",
    "\n",
    "![comp_graph_2](https://drive.google.com/uc?id=1YcYQ5KEp7ZCiXR_Pzr9JYI-4t5wWV4ll)\n",
    "\n",
    " We are interested in computing partial derivatives: \n",
    "\n",
    "$$ \\frac{\\partial f}{\\partial \\mathbf{w}}  $$ \n",
    "\n",
    "$$ \\frac{\\partial f}{\\partial b}  $$ \n",
    "\n",
    "$$ \\frac{\\partial f}{\\partial \\mathbf{x}}  $$ \n",
    "\n",
    "define $\\{x_0, x_1\\}$ and $\\{w_0, w_1\\}$ as vector variables $\\mathbf{x}$ and $\\mathbf{w}$\n",
    "look in for pytorch exponent function http://pytorch.org/docs/master/torch.html#torch.exp \n",
    "use matrix operations\n",
    "\n",
    "You should get the numbers the same as on the figure"
   ]
  },
  {
   "cell_type": "code",
   "execution_count": 20,
   "metadata": {
    "colab": {
     "base_uri": "https://localhost:8080/",
     "height": 71
    },
    "colab_type": "code",
    "executionInfo": {
     "elapsed": 900,
     "status": "ok",
     "timestamp": 1563405248044,
     "user": {
      "displayName": "Andrey Lyubonko",
      "photoUrl": "",
      "userId": "14195748931596322145"
     },
     "user_tz": -180
    },
    "id": "vDpuQUuOlkw6",
    "outputId": "c9363ba8-9803-4e11-88ed-0e936810002f"
   },
   "outputs": [
    {
     "name": "stdout",
     "output_type": "stream",
     "text": [
      "tensor([-0.3932,  0.1966])\n",
      "tensor([0.5898, 0.9831])\n",
      "tensor([0.1966])\n"
     ]
    }
   ],
   "source": [
    "w = torch.tensor([3., 5.], requires_grad=True)\n",
    "x = torch.tensor([-2., 1.], requires_grad=True)\n",
    "b = torch.tensor([2.], requires_grad=True)\n",
    "\n",
    "f = None #YOUR CODE HERE\n",
    "\n",
    "\n",
    "# Print out the gradients.\n",
    "print(w.grad)\n",
    "print(x.grad)      \n",
    "print(b.grad) "
   ]
  },
  {
   "cell_type": "markdown",
   "metadata": {
    "colab_type": "text",
    "id": "nH64V6yslkxG"
   },
   "source": [
    "One can make gradient zero by *.zero_()* command"
   ]
  },
  {
   "cell_type": "code",
   "execution_count": 21,
   "metadata": {
    "colab": {
     "base_uri": "https://localhost:8080/",
     "height": 35
    },
    "colab_type": "code",
    "executionInfo": {
     "elapsed": 518,
     "status": "ok",
     "timestamp": 1563405248239,
     "user": {
      "displayName": "Andrey Lyubonko",
      "photoUrl": "",
      "userId": "14195748931596322145"
     },
     "user_tz": -180
    },
    "id": "Oc4EG1iglkxG",
    "outputId": "bafa055a-f931-47fd-98e6-6b42c19dc7cc"
   },
   "outputs": [
    {
     "name": "stdout",
     "output_type": "stream",
     "text": [
      "tensor([0., 0.])\n"
     ]
    }
   ],
   "source": [
    "w.grad.zero_()\n",
    "print(w.grad)"
   ]
  },
  {
   "cell_type": "code",
   "execution_count": 0,
   "metadata": {
    "colab": {},
    "colab_type": "code",
    "collapsed": true,
    "id": "QMRhrhwGNuRs"
   },
   "outputs": [],
   "source": []
  }
 ],
 "metadata": {
  "accelerator": "GPU",
  "colab": {
   "collapsed_sections": [],
   "name": "a1_pytorch.ipynb",
   "provenance": [],
   "toc_visible": true,
   "version": "0.3.2"
  },
  "kernelspec": {
   "display_name": "Python 3",
   "language": "python",
   "name": "python3"
  },
  "language_info": {
   "codemirror_mode": {
    "name": "ipython",
    "version": 3
   },
   "file_extension": ".py",
   "mimetype": "text/x-python",
   "name": "python",
   "nbconvert_exporter": "python",
   "pygments_lexer": "ipython3",
   "version": "3.6.7"
  }
 },
 "nbformat": 4,
 "nbformat_minor": 1
}
